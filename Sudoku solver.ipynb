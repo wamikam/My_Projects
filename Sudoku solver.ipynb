{
 "cells": [
  {
   "cell_type": "code",
   "execution_count": 4,
   "metadata": {},
   "outputs": [
    {
     "name": "stdout",
     "output_type": "stream",
     "text": [
      "5 8 3 9 1 2 4 6 7 \n",
      "1 2 6 4 3 7 8 9 5 \n",
      "4 9 7 5 8 6 2 3 1 \n",
      "3 5 4 6 2 9 1 7 8 \n",
      "7 6 2 1 5 8 9 4 3 \n",
      "8 1 9 3 7 4 6 5 2 \n",
      "9 3 1 8 6 5 7 2 4 \n",
      "6 7 8 2 4 3 5 1 9 \n",
      "2 4 5 7 9 1 3 8 6 \n"
     ]
    }
   ],
   "source": [
    "#Solve Easy Sudoku\n",
    "#Size\n",
    "M = 9\n",
    "def puzzle(a):\n",
    "    for i in range(M):\n",
    "        for j in range(M):\n",
    "            print(a[i][j],end = \" \")\n",
    "        print()\n",
    "        \n",
    "def solve(grid, row, col, num):\n",
    "    for x in range(9):\n",
    "        if grid[row][x] == num:\n",
    "            return False\n",
    "             \n",
    "    for x in range(9):\n",
    "        if grid[x][col] == num:\n",
    "            return False\n",
    " \n",
    " \n",
    "    startRow = row - row % 3\n",
    "    startCol = col - col % 3\n",
    "    for i in range(3):\n",
    "        for j in range(3):\n",
    "            if grid[i + startRow][j + startCol] == num:\n",
    "                return False\n",
    "    return True\n",
    " \n",
    "def Suduko(grid, row, col):\n",
    " \n",
    "    if (row == M - 1 and col == M):\n",
    "        return True\n",
    "    if col == M:\n",
    "        row += 1\n",
    "        col = 0\n",
    "    if grid[row][col] > 0:\n",
    "        return Suduko(grid, row, col + 1)\n",
    "    for num in range(1, M + 1, 1): \n",
    "     \n",
    "        if solve(grid, row, col, num):\n",
    "         \n",
    "            grid[row][col] = num\n",
    "            if Suduko(grid, row, col + 1):\n",
    "                return True\n",
    "        grid[row][col] = 0\n",
    "    return False\n",
    " \n",
    "#0 means the cells where no value is assigned\n",
    "#Give the sudoku to solve in matrix form\n",
    "my_grid = [[5, 0, 3, 9, 1, 0, 0, 0, 7],\n",
    "        [0, 2, 6, 0, 3, 0, 8, 0, 5],\n",
    "    [4, 9, 0, 0, 8, 6, 2, 0, 0],\n",
    "    [0, 5, 0, 0, 2, 0, 1, 7, 8],\n",
    "    [7, 0, 0, 0, 5, 0, 0, 0, 3],\n",
    "    [8, 0, 9, 0, 0, 0, 0, 0, 2],\n",
    "    [0, 0, 0, 0, 0, 0, 0, 2, 4],\n",
    "    [0, 7, 8, 0, 4, 0, 0, 1, 9],\n",
    "    [0, 4, 5, 7, 9, 0, 3, 0, 0]]\n",
    "\n",
    "#Output giving solved sudoku means finding naked singles\n",
    "if (Suduko(my_grid, 0, 0)):\n",
    "    puzzle(my_grid)\n",
    "else:\n",
    "    print(\"Solution does not exist\")"
   ]
  }
 ],
 "metadata": {
  "kernelspec": {
   "display_name": "Python 3",
   "language": "python",
   "name": "python3"
  },
  "language_info": {
   "codemirror_mode": {
    "name": "ipython",
    "version": 3
   },
   "file_extension": ".py",
   "mimetype": "text/x-python",
   "name": "python",
   "nbconvert_exporter": "python",
   "pygments_lexer": "ipython3",
   "version": "3.8.3"
  }
 },
 "nbformat": 4,
 "nbformat_minor": 4
}
