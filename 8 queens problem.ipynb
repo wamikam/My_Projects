{
 "cells": [
  {
   "cell_type": "code",
   "execution_count": 1,
   "metadata": {},
   "outputs": [
    {
     "name": "stdout",
     "output_type": "stream",
     "text": [
      "1 0 0 0 0 0 0 0\n",
      "0 0 0 0 1 0 0 0\n",
      "0 0 0 0 0 0 0 1\n",
      "0 0 0 0 0 1 0 0\n",
      "0 0 1 0 0 0 0 0\n",
      "0 0 0 0 0 0 1 0\n",
      "0 1 0 0 0 0 0 0\n",
      "0 0 0 1 0 0 0 0\n"
     ]
    }
   ],
   "source": [
    "# Function to check if it is safe to place\n",
    "# the queen at board[row][col]\n",
    "def isSafe(mat, row, col):\n",
    "    n = len(mat)\n",
    "\n",
    "    # Check this col on upper side\n",
    "    for i in range(row):\n",
    "        if mat[i][col]:\n",
    "            return False\n",
    "\n",
    "    # Check upper diagonal on left side\n",
    "    i, j = row - 1, col - 1\n",
    "    while i >= 0 and j >= 0:\n",
    "        if mat[i][j]:\n",
    "            return False\n",
    "        i -= 1\n",
    "        j -= 1\n",
    "\n",
    "    # Check upper diagonal on right side\n",
    "    i, j = row - 1, col + 1\n",
    "    while i >= 0 and j < n:\n",
    "        if mat[i][j]:\n",
    "            return False\n",
    "        i -= 1\n",
    "        j += 1\n",
    "\n",
    "    return True\n",
    "\n",
    "def placeQueens(row, mat):\n",
    "    n = len(mat)\n",
    "\n",
    "    # base case: If all queens are placed\n",
    "    # then return true \n",
    "    if row == n:\n",
    "        return True\n",
    "\n",
    "    # Consider the row and try placing\n",
    "    # queen in all columns one by one\n",
    "    for i in range(n):\n",
    "\n",
    "        # Check if the queen can be placed\n",
    "        if isSafe(mat, row, i):\n",
    "            mat[row][i] = 1\n",
    "            if placeQueens(row + 1, mat):\n",
    "                return True\n",
    "            mat[row][i] = 0\n",
    "    return False\n",
    "\n",
    "# Function to find the solution\n",
    "# to the 8-Queens problem\n",
    "def queens():\n",
    "    n = 8\n",
    "\n",
    "    # Initialize the board\n",
    "    mat = [[0] * n for _ in range(n)]\n",
    "\n",
    "    placeQueens(0, mat)\n",
    "\n",
    "    return mat\n",
    "\n",
    "if __name__ == \"__main__\":\n",
    "    res = queens()\n",
    "    for v in res:\n",
    "        print(\" \".join(map(str, v)))"
   ]
  },
  {
   "cell_type": "code",
   "execution_count": null,
   "metadata": {},
   "outputs": [],
   "source": []
  }
 ],
 "metadata": {
  "kernelspec": {
   "display_name": "Python 3",
   "language": "python",
   "name": "python3"
  },
  "language_info": {
   "codemirror_mode": {
    "name": "ipython",
    "version": 3
   },
   "file_extension": ".py",
   "mimetype": "text/x-python",
   "name": "python",
   "nbconvert_exporter": "python",
   "pygments_lexer": "ipython3",
   "version": "3.8.3"
  }
 },
 "nbformat": 4,
 "nbformat_minor": 4
}
