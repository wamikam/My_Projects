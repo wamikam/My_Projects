{
 "cells": [
  {
   "cell_type": "markdown",
   "metadata": {
    "id": "8w0RLdj2y4ik"
   },
   "source": [
    "## GECCO2019 - Bi-objective Traveling Thief Competition\n",
    "\n",
    "This worksheet clones the GECCO 2019 travelling thief repository, which includes the node coordinates, item locations and other important params such as the thiefs speed and knapsack capacity, for each of the 9 test sets as defined in the paper \"A Comprehensive Benchmark Set and Heuristics for the Traveling Thief Problem, Polyakovskiy et al\" and supplies them as python objects ready for your individual algorithms to use.\n",
    "\n",
    "If creating a network graph from the node coordinates the problem assumes a fully connected network (i.e. it is permissible for the thief to travel from any node, to any other node, should it wish to do so, the distance being the *integer ceiling* of the euclidean distance between the two nodes)\n",
    "\n",
    "There is also a non-dominated solution tracker, which accepts an arbitrary number of solutions, picks the maximum number of pareto-optimal non-dominated solutions permitted for the problem, and outputs them as a files in the competition submission format"
   ]
  },
  {
   "cell_type": "code",
   "execution_count": null,
   "metadata": {
    "id": "_0Zu9aO7L2h4"
   },
   "outputs": [],
   "source": [
    "from collections import namedtuple\n",
    "import itertools\n",
    "import matplotlib\n",
    "import matplotlib.pyplot as plt\n",
    "from matplotlib.collections import LineCollection\n",
    "import math\n",
    "import numpy as np\n",
    "import os\n",
    "import random\n",
    "import multiprocessing"
   ]
  },
  {
   "cell_type": "markdown",
   "metadata": {
    "id": "Kzfmd_Y1E9jk"
   },
   "source": [
    "# Problem Definition"
   ]
  },
  {
   "cell_type": "code",
   "execution_count": null,
   "metadata": {
    "colab": {
     "base_uri": "https://localhost:8080/"
    },
    "executionInfo": {
     "elapsed": 800,
     "status": "ok",
     "timestamp": 1610829556300,
     "user": {
      "displayName": "Jon Carter",
      "photoUrl": "",
      "userId": "10994732475158030338"
     },
     "user_tz": 0
    },
    "id": "5SgOqKaHy47k",
    "outputId": "8e2ece41-1eee-49d5-f462-cc03dbe42561"
   },
   "outputs": [
    {
     "name": "stdout",
     "output_type": "stream",
     "text": [
      "fatal: destination path 'gecco19-thief' already exists and is not an empty directory.\n"
     ]
    }
   ],
   "source": [
    "# get the data\n",
    "!git clone https://github.com/julesy89/gecco19-thief"
   ]
  },
  {
   "cell_type": "code",
   "execution_count": null,
   "metadata": {
    "colab": {
     "base_uri": "https://localhost:8080/"
    },
    "executionInfo": {
     "elapsed": 700,
     "status": "ok",
     "timestamp": 1610829556600,
     "user": {
      "displayName": "Jon Carter",
      "photoUrl": "",
      "userId": "10994732475158030338"
     },
     "user_tz": 0
    },
    "id": "EYouRAk0TyY0",
    "outputId": "fd922d04-70fb-41de-f9c4-6ed573bde1df"
   },
   "outputs": [
    {
     "name": "stdout",
     "output_type": "stream",
     "text": [
      "a280-n1395.txt\tfnl4461-n22300.txt  pla33810-n169045.txt  test-example-n4.txt\n",
      "a280-n2790.txt\tfnl4461-n44600.txt  pla33810-n338090.txt\n",
      "a280-n279.txt\tfnl4461-n4460.txt   pla33810-n33809.txt\n"
     ]
    }
   ],
   "source": [
    "# list the defined problems\n",
    "loaddir = './gecco19-thief/src/main/resources/'\n",
    "#!cp /content/drive/MyDrive/Colab\\ Notebooks/BankProblem.txt $loaddir \n",
    "!ls $loaddir"
   ]
  },
  {
   "cell_type": "code",
   "execution_count": null,
   "metadata": {
    "id": "Xmq_s9iIT5OU"
   },
   "outputs": [],
   "source": [
    "# define the structure of the problem params\n",
    "TTPNode = namedtuple('TTPNode', 'index x y')\n",
    "TTPItem = namedtuple('TTPItem', 'index profit weight node')\n",
    "class TTPProblem:\n",
    "    def __init__(self):\n",
    "        self.name = ''\n",
    "        self.dimension = 0\n",
    "        self.num_items = 0\n",
    "        self.knapsack_capacity = 0\n",
    "        self.min_speed = 0\n",
    "        self.max_speed = 0\n",
    "        self.nodes = {}\n",
    "        self.items = {}\n",
    "        self.items_at = {}\n",
    "        self.items_list = []\n",
    "        self.items_total_weight = 0\n",
    "        self.dist_memo = None\n",
    "\n",
    "    def __repr__(self):\n",
    "        return self.name + \"(d=\" + str(self.dimension) + \",n=\" + str(self.num_items) + \")\"\n",
    "    \n",
    "    def index_items_at(self):\n",
    "        self.items_at = {n.index:set() for n in self.nodes.values()}\n",
    "        self.items_total_weight = 0\n",
    "        for i in self.items.values():\n",
    "            self.items_at[i.node].add(i.index)\n",
    "            self.items_list.append(i)\n",
    "            self.items_total_weight += i.weight\n",
    "        self.packing_ratio = self.knapsack_capacity / self.items_total_weight\n",
    "        if self.dimension <= 1000:\n",
    "            self.dist_memo = -np.ones([self.dimension, self.dimension]) # O(n^2) so <= 1M is reasonable\n",
    "    \n",
    "    def dist_between(self, i, j):\n",
    "        # idea by Siming to cache distance lookups for small problems\n",
    "        if self.dist_memo is not None:\n",
    "            dist = self.dist_memo[i-1][j-1]\n",
    "            if dist == -1:\n",
    "                dist = self.calc_dist_between(i, j)\n",
    "                self.dist_memo[i-1][j-1] = dist\n",
    "            return dist\n",
    "        else:\n",
    "            return self.calc_dist_between(i, j)\n",
    "\n",
    "    def thief_speed(self, w):\n",
    "        '''Speed of the thief laden with weight w'''\n",
    "        return self.max_speed - (w / self.knapsack_capacity) * (self.max_speed - self.min_speed)\n",
    "\n",
    "    def calc_dist_between(self, i, j):\n",
    "        dx = self.nodes[i].x - self.nodes[j].x\n",
    "        dy = self.nodes[i].y - self.nodes[j].y\n",
    "        return math.ceil(math.sqrt(dx**2 + dy**2))\n",
    "      \n",
    "    def weigh_knapsack(self, k):\n",
    "        return sum(self.items[i].weight for i in k)\n",
    "\n",
    "    def from_packing_plan(self, packing):\n",
    "        return {v.index for p, v in zip(packing, self.items_list) if p}"
   ]
  },
  {
   "cell_type": "code",
   "execution_count": null,
   "metadata": {
    "colab": {
     "base_uri": "https://localhost:8080/"
    },
    "executionInfo": {
     "elapsed": 4600,
     "status": "ok",
     "timestamp": 1610829565500,
     "user": {
      "displayName": "Jon Carter",
      "photoUrl": "",
      "userId": "10994732475158030338"
     },
     "user_tz": 0
    },
    "id": "bzNZNwg3T7TI",
    "outputId": "58702336-dce5-4c16-c272-1e9bb4584812"
   },
   "outputs": [
    {
     "name": "stdout",
     "output_type": "stream",
     "text": [
      "loading ./gecco19-thief/src/main/resources/pla33810-n33809.txt\n",
      "loading ./gecco19-thief/src/main/resources/test-example-n4.txt\n",
      "loading ./gecco19-thief/src/main/resources/fnl4461-n44600.txt\n",
      "loading ./gecco19-thief/src/main/resources/fnl4461-n22300.txt\n",
      "loading ./gecco19-thief/src/main/resources/fnl4461-n4460.txt\n",
      "loading ./gecco19-thief/src/main/resources/a280-n1395.txt\n",
      "loading ./gecco19-thief/src/main/resources/pla33810-n169045.txt\n",
      "loading ./gecco19-thief/src/main/resources/a280-n2790.txt\n",
      "loading ./gecco19-thief/src/main/resources/a280-n279.txt\n",
      "loading ./gecco19-thief/src/main/resources/pla33810-n338090.txt\n"
     ]
    }
   ],
   "source": [
    "# load each into a problem map\n",
    "problems = {}\n",
    "for f in os.listdir(loaddir):\n",
    "    with open(loaddir + f) as fh:\n",
    "        print(f\"loading {fh.name}\")\n",
    "        problem = TTPProblem()\n",
    "        problem.filename = f.split('.')[0]\n",
    "        problem.name = fh.readline().split(':')[1].lstrip(' \\t').rstrip('\\r\\n')\n",
    "        fh.readline() # knapsack data type ignored\n",
    "        problem.dimension = int(fh.readline().split(':')[1].lstrip(' \\t').rstrip('\\r\\n'))\n",
    "        problem.num_items = int(fh.readline().split(':')[1].lstrip(' \\t').rstrip('\\r\\n'))\n",
    "        problem.knapsack_capacity = int(fh.readline().split(':')[1].lstrip(' \\t').rstrip('\\r\\n'))\n",
    "        problem.min_speed = float(fh.readline().split(':')[1].lstrip(' \\t').rstrip('\\r\\n'))\n",
    "        problem.max_speed = float(fh.readline().split(':')[1].lstrip(' \\t').rstrip('\\r\\n'))\n",
    "        fh.readline() # renting ratio ignored\n",
    "        fh.readline() # edge weight types assumed ceil_2d\n",
    "        fh.readline() # node_coord_section\n",
    "        while True:\n",
    "            x = fh.readline()\n",
    "            if x.startswith(\"ITEMS\"):\n",
    "                break\n",
    "            node = TTPNode(int(x.split()[0].lstrip(' \\t').rstrip('\\r\\n')),\n",
    "                           float(x.split()[1].lstrip(' \\t').rstrip('\\r\\n')),\n",
    "                           float(x.split()[2].lstrip(' \\t').rstrip('\\r\\n')))\n",
    "            problem.nodes[node.index] = node\n",
    "        while True:\n",
    "            x = fh.readline()\n",
    "            if not x:\n",
    "                break\n",
    "            item = TTPItem(int(x.split()[0].lstrip(' \\t').rstrip('\\r\\n')),\n",
    "                           float(x.split()[1].lstrip(' \\t').rstrip('\\r\\n')),\n",
    "                           float(x.split()[2].lstrip(' \\t').rstrip('\\r\\n')),\n",
    "                           int(x.split()[3].lstrip(' \\t').rstrip('\\r\\n')))\n",
    "            problem.items[item.index] = item\n",
    "        problem.index_items_at()\n",
    "        problems[f] = problem"
   ]
  },
  {
   "cell_type": "code",
   "execution_count": null,
   "metadata": {
    "colab": {
     "base_uri": "https://localhost:8080/"
    },
    "executionInfo": {
     "elapsed": 600,
     "status": "ok",
     "timestamp": 1610829600600,
     "user": {
      "displayName": "Jon Carter",
      "photoUrl": "",
      "userId": "10994732475158030338"
     },
     "user_tz": 0
    },
    "id": "eNXkAW1pT9bE",
    "outputId": "e43e6ae1-374f-438d-a0a1-687799c79f7c"
   },
   "outputs": [
    {
     "data": {
      "text/plain": [
       "{'a280-n1395.txt': a280-TTP(d=280,n=1395),\n",
       " 'a280-n279.txt': a280-TTP(d=280,n=279),\n",
       " 'a280-n2790.txt': a280-TTP(d=280,n=2790),\n",
       " 'fnl4461-n22300.txt': fnl4461-TTP(d=4461,n=22300),\n",
       " 'fnl4461-n4460.txt': fnl4461-TTP(d=4461,n=4460),\n",
       " 'fnl4461-n44600.txt': fnl4461-TTP(d=4461,n=44600),\n",
       " 'pla33810-n169045.txt': pla33810-TTP(d=33810,n=169045),\n",
       " 'pla33810-n33809.txt': pla33810-TTP(d=33810,n=33809),\n",
       " 'pla33810-n338090.txt': pla33810-TTP(d=33810,n=338090),\n",
       " 'test-example-n4.txt': Test(d=4,n=3)}"
      ]
     },
     "execution_count": 134,
     "metadata": {
      "tags": []
     },
     "output_type": "execute_result"
    }
   ],
   "source": [
    "# what's that look like?\n",
    "problems"
   ]
  },
  {
   "cell_type": "markdown",
   "metadata": {
    "id": "PO8N-DPdFJM4"
   },
   "source": [
    "# Solution Definition"
   ]
  },
  {
   "cell_type": "code",
   "execution_count": null,
   "metadata": {
    "id": "rXh4HA-0UMuw"
   },
   "outputs": [],
   "source": [
    "# a possible solution to a problem\n",
    "class InvalidSolutionException(BaseException):\n",
    "    pass\n",
    "class TTPSolution:\n",
    "    def __init__(self, problem, route, items):\n",
    "        self.problem = problem\n",
    "        self.nodes = route\n",
    "        self.items = items\n",
    "        self.memo = {}\n",
    "        self.valid = True\n",
    "        try:\n",
    "            self.total_time()\n",
    "        except InvalidSolutionException:\n",
    "            self.valid = False\n",
    "        \n",
    "    def __repr__(self):\n",
    "        if self.valid:\n",
    "            return \"ValidSolution(t=\" + str(self.total_time()) + \",p=\" + str(self.total_profit()) + \")\"\n",
    "        else:\n",
    "            return(\"InvalidSolution\")\n",
    "        \n",
    "    def total_dist(self):\n",
    "        while True:\n",
    "            try:\n",
    "                return self.memo['total_dist']\n",
    "            except KeyError:\n",
    "                self.memo['total_dist'] = sum(problem.dist_between(self.nodes[n], self.nodes[(n+1) % len(self.nodes)])\n",
    "                                                for n in range(len(self.nodes)))\n",
    "    def total_profit(self):\n",
    "        while True:\n",
    "            try:\n",
    "                return self.memo['total_profit']\n",
    "            except KeyError:\n",
    "                self.memo['total_profit'] = sum(problem.items[i].profit for i in self.items)\n",
    "        \n",
    "    def total_weight(self):\n",
    "        while True:\n",
    "            try:\n",
    "                return self.memo['total_weight']\n",
    "            except KeyError:\n",
    "                self.memo['total_weight'] = sum(problem.items[i].weight for i in self.items)\n",
    "    \n",
    "    # walks the route one city at a time, updating the knapsack with all items collected\n",
    "    # thus far, and the thiefs speed after each leg\n",
    "    def total_time(self):\n",
    "        while True:\n",
    "            try:\n",
    "                return self.memo['total_time']\n",
    "            except KeyError:\n",
    "                ts = np.zeros(len(self.nodes))\n",
    "                k = set()\n",
    "                t = 0\n",
    "                for n in range(len(self.nodes)):\n",
    "                    d = problem.dist_between(self.nodes[n], self.nodes[(n+1) % len(self.nodes)])\n",
    "                    k |= self.items & problem.items_at[self.nodes[n]]\n",
    "                    w = problem.weigh_knapsack(k)\n",
    "                    if w > problem.knapsack_capacity:\n",
    "                        raise InvalidSolutionException()\n",
    "                    ts[n] = problem.thief_speed(w)\n",
    "                    t += d / ts[n]\n",
    "                self.memo['total_time'] = t\n",
    "                self.memo['thief_speed'] = ts"
   ]
  },
  {
   "cell_type": "markdown",
   "metadata": {
    "id": "sqCFZHQEEduE"
   },
   "source": [
    "# Test (Exhaustive Search)"
   ]
  },
  {
   "cell_type": "code",
   "execution_count": null,
   "metadata": {
    "colab": {
     "base_uri": "https://localhost:8080/"
    },
    "executionInfo": {
     "elapsed": 700,
     "status": "ok",
     "timestamp": 1610829604400,
     "user": {
      "displayName": "Jon Carter",
      "photoUrl": "",
      "userId": "10994732475158030338"
     },
     "user_tz": 0
    },
    "id": "5sVWdfjKxAuY",
    "outputId": "58c77b26-0ce9-4b09-f1ba-17da4ab88dba"
   },
   "outputs": [
    {
     "name": "stdout",
     "output_type": "stream",
     "text": [
      "[(1, 2, 3, 4), (1, 2, 4, 3), (1, 3, 2, 4), (1, 3, 4, 2), (1, 4, 2, 3), (1, 4, 3, 2)]\n",
      "[{2, 3, 4}, {2, 3}, {2, 4}, {2}, {3, 4}, {3}, {4}, set()]\n"
     ]
    }
   ],
   "source": [
    "# run an exhaustive search of the test problem solution space\n",
    "problem = problems['test-example-n4.txt']\n",
    "all_routes = list(itertools.permutations(problem.nodes.keys()))[:6]\n",
    "all_items = []\n",
    "for pick in itertools.product([True, False], repeat=len(problem.items)):\n",
    "    all_items.append({i.index for i, p in zip(problem.items.values(), pick) if p})\n",
    "print(f\"{all_routes}\")\n",
    "print(f\"{all_items}\")"
   ]
  },
  {
   "cell_type": "code",
   "execution_count": null,
   "metadata": {
    "colab": {
     "base_uri": "https://localhost:8080/"
    },
    "executionInfo": {
     "elapsed": 700,
     "status": "ok",
     "timestamp": 1610829605700,
     "user": {
      "displayName": "Jon Carter",
      "photoUrl": "",
      "userId": "10994732475158030338"
     },
     "user_tz": 0
    },
    "id": "AHTkLTjlxDKo",
    "outputId": "3fce60b3-0cd4-481d-966c-6e8f927945ea"
   },
   "outputs": [
    {
     "name": "stdout",
     "output_type": "stream",
     "text": [
      "route (1, 2, 3, 4) items {2, 3, 4} InvalidSolution\n",
      "route (1, 2, 3, 4) items {2, 3} ValidSolution(t=63.31187569367369,p=74.0)\n",
      "route (1, 2, 3, 4) items {2, 4} ValidSolution(t=30.660764676589388,p=59.0)\n",
      "route (1, 2, 3, 4) items {2} ValidSolution(t=28.150943396226413,p=34.0)\n",
      "route (1, 2, 3, 4) items {3, 4} ValidSolution(t=33.107207533502354,p=65.0)\n",
      "route (1, 2, 3, 4) items {3} ValidSolution(t=29.0,p=40.0)\n",
      "route (1, 2, 3, 4) items {4} ValidSolution(t=20.927986906710313,p=25.0)\n",
      "route (1, 2, 3, 4) items set() ValidSolution(t=20.0,p=0)\n",
      "route (1, 2, 4, 3) items {2, 3, 4} InvalidSolution\n",
      "route (1, 2, 4, 3) items {2, 3} ValidSolution(t=65.97558268590456,p=74.0)\n",
      "route (1, 2, 4, 3) items {2, 4} ValidSolution(t=51.429867758534826,p=59.0)\n",
      "route (1, 2, 4, 3) items {2} ValidSolution(t=37.20754716981132,p=34.0)\n",
      "route (1, 2, 4, 3) items {3, 4} ValidSolution(t=48.15989071537093,p=65.0)\n",
      "route (1, 2, 4, 3) items {3} ValidSolution(t=33.36363636363636,p=40.0)\n",
      "route (1, 2, 4, 3) items {4} ValidSolution(t=31.258592471358433,p=25.0)\n",
      "route (1, 2, 4, 3) items set() ValidSolution(t=26.0,p=0)\n",
      "route (1, 3, 2, 4) items {2, 3, 4} InvalidSolution\n",
      "route (1, 3, 2, 4) items {2, 3} ValidSolution(t=55.7379679144385,p=74.0)\n",
      "route (1, 3, 2, 4) items {2, 4} ValidSolution(t=28.585292978476183,p=59.0)\n",
      "route (1, 3, 2, 4) items {2} ValidSolution(t=26.07547169811321,p=34.0)\n",
      "route (1, 3, 2, 4) items {3, 4} ValidSolution(t=36.74357116986599,p=65.0)\n",
      "route (1, 3, 2, 4) items {3} ValidSolution(t=32.63636363636363,p=40.0)\n",
      "route (1, 3, 2, 4) items {4} ValidSolution(t=22.927986906710313,p=25.0)\n",
      "route (1, 3, 2, 4) items set() ValidSolution(t=22.0,p=0)\n",
      "route (1, 3, 4, 2) items {2, 3, 4} InvalidSolution\n",
      "route (1, 3, 4, 2) items {2, 3} ValidSolution(t=51.45989304812834,p=74.0)\n",
      "route (1, 3, 4, 2) items {2, 4} ValidSolution(t=32.93080906739108,p=59.0)\n",
      "route (1, 3, 4, 2) items {2} ValidSolution(t=28.037735849056602,p=34.0)\n",
      "route (1, 3, 4, 2) items {3, 4} ValidSolution(t=52.230713509597976,p=65.0)\n",
      "route (1, 3, 4, 2) items {3} ValidSolution(t=39.909090909090914,p=40.0)\n",
      "route (1, 3, 4, 2) items {4} ValidSolution(t=28.783960720130935,p=25.0)\n",
      "route (1, 3, 4, 2) items set() ValidSolution(t=26.0,p=0)\n",
      "route (1, 4, 2, 3) items {2, 3, 4} InvalidSolution\n",
      "route (1, 4, 2, 3) items {2, 3} ValidSolution(t=57.900110987791344,p=74.0)\n",
      "route (1, 4, 2, 3) items {2, 4} ValidSolution(t=42.39121962457584,p=59.0)\n",
      "route (1, 4, 2, 3) items {2} ValidSolution(t=29.132075471698116,p=34.0)\n",
      "route (1, 4, 2, 3) items {3, 4} ValidSolution(t=44.7785486531778,p=65.0)\n",
      "route (1, 4, 2, 3) items {3} ValidSolution(t=29.363636363636363,p=40.0)\n",
      "route (1, 4, 2, 3) items {4} ValidSolution(t=27.877250409165306,p=25.0)\n",
      "route (1, 4, 2, 3) items set() ValidSolution(t=22.0,p=0)\n",
      "route (1, 4, 3, 2) items {2, 3, 4} InvalidSolution\n",
      "route (1, 4, 3, 2) items {2, 3} ValidSolution(t=38.91443850267379,p=74.0)\n",
      "route (1, 4, 3, 2) items {2, 4} ValidSolution(t=29.40544081861858,p=59.0)\n",
      "route (1, 4, 3, 2) items {2} ValidSolution(t=22.037735849056602,p=34.0)\n",
      "route (1, 4, 3, 2) items {3, 4} ValidSolution(t=42.15989071537093,p=65.0)\n",
      "route (1, 4, 3, 2) items {3} ValidSolution(t=27.363636363636363,p=40.0)\n",
      "route (1, 4, 3, 2) items {4} ValidSolution(t=25.25859247135843,p=25.0)\n",
      "route (1, 4, 3, 2) items set() ValidSolution(t=20.0,p=0)\n"
     ]
    }
   ],
   "source": [
    "all_solutions = []\n",
    "for route in all_routes:\n",
    "    for items in all_items:\n",
    "        solution = TTPSolution(problem, route, items)\n",
    "        all_solutions.append(solution)\n",
    "        print(f\"route {solution.nodes} items {solution.items} {solution}\")"
   ]
  },
  {
   "cell_type": "code",
   "execution_count": null,
   "metadata": {
    "colab": {
     "base_uri": "https://localhost:8080/"
    },
    "executionInfo": {
     "elapsed": 900,
     "status": "ok",
     "timestamp": 1610829606100,
     "user": {
      "displayName": "Jon Carter",
      "photoUrl": "",
      "userId": "10994732475158030338"
     },
     "user_tz": 0
    },
    "id": "CFcJLQj7B8JE",
    "outputId": "a0eab42f-f3bb-45fc-f2ba-8f39252534ce"
   },
   "outputs": [
    {
     "data": {
      "text/plain": [
       "array([[-1.,  4.,  9.,  3.],\n",
       "       [ 4., -1.,  5.,  5.],\n",
       "       [ 9.,  5., -1.,  8.],\n",
       "       [ 3.,  5.,  8., -1.]])"
      ]
     },
     "execution_count": 138,
     "metadata": {
      "tags": []
     },
     "output_type": "execute_result"
    }
   ],
   "source": [
    "problem.dist_memo"
   ]
  },
  {
   "cell_type": "markdown",
   "metadata": {
    "id": "FsMIj1OAEtWE"
   },
   "source": [
    "# Non-Dominated Solution Tracking"
   ]
  },
  {
   "cell_type": "code",
   "execution_count": null,
   "metadata": {
    "id": "ns_h2IVb12vA"
   },
   "outputs": [],
   "source": [
    "# keeps track of non-dominated solutions up to the maximum for a problem\n",
    "class TTPNonDominatedSolutions:\n",
    "    def __init__(self, max_solutions):\n",
    "        self.solutions = set()\n",
    "        self.max_solutions = max_solutions\n",
    "        \n",
    "    def add_new_solutions(self, solutions):\n",
    "        self.solutions |= {s for s in solutions if s.valid}\n",
    "        \n",
    "        # remove any dominated solutions\n",
    "        r = set()\n",
    "        for i in self.solutions:\n",
    "            for j in self.solutions:\n",
    "                if i != j:\n",
    "                    if (i.total_time() >= j.total_time() and i.total_profit() < j.total_profit()) \\\n",
    "                            or (i.total_time() > j.total_time() and i.total_profit() <= j.total_profit()) \\\n",
    "                            or (i.total_time() == j.total_time() and i.total_profit() == j.total_profit() and id(i) > id(j)):\n",
    "                        r.add(i)\n",
    "                        break\n",
    "        self.solutions -= r\n",
    "        \n",
    "        # if more than maximum permitted remove non-dominated solutions\n",
    "        if len(self.solutions) > self.max_solutions:\n",
    "            # TODO this should attempt to maximise the distance between each solution along the pareto front\n",
    "            self.solutions -= set(random.sample(self.solutions, len(self.solutions) - self.max_solutions))"
   ]
  },
  {
   "cell_type": "code",
   "execution_count": null,
   "metadata": {
    "colab": {
     "base_uri": "https://localhost:8080/"
    },
    "executionInfo": {
     "elapsed": 600,
     "status": "ok",
     "timestamp": 1610829607900,
     "user": {
      "displayName": "Jon Carter",
      "photoUrl": "",
      "userId": "10994732475158030338"
     },
     "user_tz": 0
    },
    "id": "5C5rmV0z14hE",
    "outputId": "732ae7c9-b3a7-4719-d2bb-feaee5f8b024"
   },
   "outputs": [
    {
     "name": "stdout",
     "output_type": "stream",
     "text": [
      "7\n"
     ]
    }
   ],
   "source": [
    "nd_solutions = TTPNonDominatedSolutions(8)\n",
    "nd_solutions.add_new_solutions(all_solutions)\n",
    "print(len(nd_solutions.solutions))"
   ]
  },
  {
   "cell_type": "code",
   "execution_count": null,
   "metadata": {
    "colab": {
     "base_uri": "https://localhost:8080/",
     "height": 497
    },
    "executionInfo": {
     "elapsed": 600,
     "status": "ok",
     "timestamp": 1610829609500,
     "user": {
      "displayName": "Jon Carter",
      "photoUrl": "",
      "userId": "10994732475158030338"
     },
     "user_tz": 0
    },
    "id": "YGgDIWDZxTQU",
    "outputId": "341eeb52-79db-4d56-d915-1711ff536b15"
   },
   "outputs": [
    {
     "data": {
      "image/png": "[encoded data removed]",
      "text/plain": [
       "<Figure size 576x576 with 1 Axes>"
      ]
     },
     "metadata": {
      "needs_background": "light",
      "tags": []
     },
     "output_type": "display_data"
    }
   ],
   "source": [
    "def plot_solutions(all_solutions):\n",
    "    plt.figure(figsize=(8,8))\n",
    "    plt.scatter([s.total_time() for s in all_solutions if s.valid], \n",
    "                [s.total_profit() for s in all_solutions if s.valid])\n",
    "    plt.scatter([s.total_time() for s in nd_solutions.solutions], \n",
    "                [s.total_profit() for s in nd_solutions.solutions])\n",
    "    plt.xlabel('thief time')\n",
    "    plt.ylabel('thief profit')\n",
    "    plt.show()\n",
    "plot_solutions(all_solutions)"
   ]
  },
  {
   "cell_type": "markdown",
   "metadata": {
    "id": "c7ox4J_1kdVw"
   },
   "source": [
    "# Particle Swarm"
   ]
  },
  {
   "cell_type": "code",
   "execution_count": null,
   "metadata": {
    "id": "PeyIalJmka2Y"
   },
   "outputs": [],
   "source": [
    "import numpy as np\n",
    "\n",
    "# uses discrete swap operations probabilistically per Goldbach et al to map\n",
    "# continuous search space into a discrete search space for TSP/KSP\n",
    "class TTPSwarm:\n",
    "    '''\n",
    "    Initialises a new particle swarm, containing x particles with number of\n",
    "    dimensions d (TSP) and items n (KSP) defined by the supplied problem.\n",
    "    w = inertia coefficient\n",
    "    c1 = pbest acceleration coefficient\n",
    "    c2 = gbest acceleration coefficient\n",
    "    '''\n",
    "    def __init__(self, problem, x, w=0.9, c1=0.2, c2=0.1):\n",
    "        self.problem = problem\n",
    "        self.w = w\n",
    "        self.c1 = c1\n",
    "        self.c2 = c2\n",
    "        self.particles = [TTPParticle(self) for i in range(x)]\n",
    "        self.gbest = self.particles[0] # as good as any other\n",
    "        \n",
    "    def update(self):\n",
    "        '''\n",
    "        Updates every particle in the entire swarm and calculates new gbest.\n",
    "        '''\n",
    "        # update each swarm member\n",
    "        for p in self.particles:\n",
    "            p.update()\n",
    "\n",
    "        # calculate new gbest of the whole swarm\n",
    "        for p in self.particles:\n",
    "            if p.pbest[0] > self.gbest.pbest[0]:\n",
    "                self.gbest = p\n",
    "\n",
    "    def __repr__(self):\n",
    "        return \"TTPSwarm(problem=\" + str(self.problem) + \",x=\" + str(len(self.particles)) + \",gbest=\" + str(self.gbest)\n",
    "\n",
    "class TTPParticle:\n",
    "    '''\n",
    "    Initialises a TTP particle belonging to the swarm with a random location\n",
    "    and velocity within the (d+n) dimensional search space.\n",
    "    '''\n",
    "    def __init__(self, swarm):\n",
    "        self.swarm = swarm\n",
    "        # problems where there is 10 times total weight, to knapsack capacity\n",
    "        # should only pick an item at most 1/10th of the time - this simple\n",
    "        # heuristic prevents too many unfeasible initial solutions\n",
    "        items_to_pack = int(0.9 * self.swarm.problem.num_items * self.swarm.problem.packing_ratio)\n",
    "        k = [k for k in self.swarm.problem.nodes.keys()]\n",
    "        # random permutation of tour and random (following packing ratio) of items\n",
    "        self.x = np.append(\n",
    "            np.append(k[0], np.random.permutation(k[1:])),\n",
    "            np.random.permutation(np.append([1] * items_to_pack, [0] * (self.swarm.problem.num_items - items_to_pack)))\n",
    "        )\n",
    "        self.v = np.append(\n",
    "            np.random.rand(self.swarm.problem.dimension) - 0.5,\n",
    "            np.random.rand(self.swarm.problem.num_items) - (1.0 - self.swarm.problem.packing_ratio)\n",
    "        )\n",
    "        self.pbest = (0, self.x.copy())\n",
    "        self.solution = None\n",
    "\n",
    "    def update(self):\n",
    "        '''\n",
    "        Update this particle using PSO update algorithm. Generates a solution.\n",
    "        If solution is better than any found so far, updates pbest.\n",
    "        '''\n",
    "        # update particle velocity and location in search space\n",
    "        r1 = np.random.rand(len(self.x))\n",
    "        r2 = np.random.rand(len(self.x))\n",
    "        self.v = self.swarm.w * self.v \\\n",
    "                    + self.swarm.c1 * r1 * (self.calc_discrete_velocity_operator(self.x, self.pbest[1])) \\\n",
    "                    + self.swarm.c2 * r2 * (self.calc_discrete_velocity_operator(self.x, self.swarm.gbest.pbest[1]))\n",
    "        self.apply_discrete_velocity_operator(self.v)\n",
    "        \n",
    "        # generate the tour and packing plan from this particles position\n",
    "        self.solution = self.to_solution()\n",
    "        \n",
    "        # if this is my new personal best mark it\n",
    "        if self.solution.valid:\n",
    "            score = self.solution.total_profit() / self.solution.total_time()\n",
    "            if score > self.pbest[0]:\n",
    "                self.pbest = (score, self.x.copy())\n",
    "\n",
    "    def calc_discrete_velocity_operator(self, x1, x2):\n",
    "        '''\n",
    "        Calculate a 'velocity' between two discrete states; the difference\n",
    "        between the two discrete states will always be an integer array of\n",
    "        -1, 0 or 1 indicating the direction in which the state should be pushed\n",
    "        via swap operations such that state x1 moves closer to state x2.\n",
    "        '''\n",
    "        v = np.zeros(len(x1))\n",
    "        for i, x in enumerate(x1[:self.swarm.problem.dimension]):\n",
    "            i2 = np.where(x2[:self.swarm.problem.dimension] == x)\n",
    "            v[i] = 1 if i2[0][0] > i else -1 if i2[0][0] < i else 0\n",
    "        for i, p in enumerate(x1[self.swarm.problem.dimension:]):\n",
    "            p2 = x2[self.swarm.problem.dimension + i]\n",
    "            v[self.swarm.problem.dimension + i] = p2 - p\n",
    "        return v\n",
    "\n",
    "    def apply_discrete_velocity_operator(self, v):\n",
    "        '''\n",
    "        Apply a 'velocity' between two discrete states; v is no longer applied\n",
    "        continuously per time step to x but a higher velocity in a dimension\n",
    "        indicates a higher probability per time step that the state x will apply\n",
    "        a swap operator between states in the direction of the velocity.\n",
    "        '''\n",
    "        r = np.random.rand(len(self.x))\n",
    "        tour_swaps = 0\n",
    "        packing_swaps = 0\n",
    "        for i, v in enumerate(self.v[:self.swarm.problem.dimension]):\n",
    "            if v > 0 and r[i] < v and i < self.swarm.problem.dimension - 1:\n",
    "                self.x[i], self.x[i+1] = self.x[i+1], self.x[i]\n",
    "                tour_swaps += 1\n",
    "            elif v < 0 and r[i] < -v and i > 1:\n",
    "                self.x[i], self.x[i-1] = self.x[i-1], self.x[i]\n",
    "                tour_swaps += 1\n",
    "        for i, v in enumerate(self.v[self.swarm.problem.dimension:]):\n",
    "            if v > 0 and r[i] < v:\n",
    "                #print(f\"adding an item because v = {v} and r[{i}] = {r[i]}\")\n",
    "                self.x[self.swarm.problem.dimension + i] = 1\n",
    "                packing_swaps += 1\n",
    "            elif v < 0 and r[i] < -v and i > 0:\n",
    "                #print(f\"removing an item because v = {v} and r[{i}] = {r[i]}\")\n",
    "                self.x[self.swarm.problem.dimension + i] = 0\n",
    "                packing_swaps += 1\n",
    "        #print(f'tour swaps {tour_swaps} packing swaps {packing_swaps}')\n",
    "   \n",
    "    def to_solution(self):\n",
    "        '''\n",
    "        Return the solution for the tour and packing plan for this particle state\n",
    "        '''\n",
    "        tour = self.x[:self.swarm.problem.dimension]\n",
    "        plan = [True if i > 0.5 else False for i in self.x[self.swarm.problem.dimension:]]\n",
    "        pack = self.swarm.problem.from_packing_plan(plan)\n",
    "        return TTPSolution(self.swarm.problem, tour, pack)\n",
    "\n",
    "    def __repr__(self):\n",
    "        return \"TTPParticle(x=\" + str(self.x) + \",v=\" + str(self.v)"
   ]
  },
  {
   "cell_type": "code",
   "execution_count": null,
   "metadata": {
    "id": "BqwTbwLSJSAo"
   },
   "outputs": [],
   "source": [
    "def run_particle_swarm(problem):\n",
    "    # adjust epochs to problem complexity to maintain average run time\n",
    "    epochs = int(10000 // problem.dimension)\n",
    "    generations_per_epoch = 8\n",
    "    reset_chance = 0.2\n",
    "    c1 = 0.1\n",
    "    c2 = 0.05\n",
    "    particles = 50\n",
    "    weight = 1.0\n",
    "\n",
    "    # generate the swarm\n",
    "    swarm = TTPSwarm(problem, particles, weight, c1, c2)\n",
    "    all_solutions = []\n",
    "    for epoch in range(epochs):\n",
    "        print(f'epoch {epoch}')\n",
    "        # apply pso updates\n",
    "        for generation in range(generations_per_epoch):\n",
    "            swarm.update()\n",
    "        for p in swarm.particles:\n",
    "            # store this particles best solution per epoch\n",
    "            if p.pbest[0] > 0:\n",
    "                s = swarm.to_solution(p.pbest[1])\n",
    "                all_solutions.append(s)\n",
    "            # completely rerandomise the velocity and reset best solution sometimes\n",
    "            if random.random() < reset_chance:\n",
    "                p.v = np.append(\n",
    "                    np.random.rand(swarm.problem.dimension) - 0.5,\n",
    "                    np.random.rand(swarm.problem.num_items) - (1.0 - swarm.problem.packing_ratio)\n",
    "                )\n",
    "                p.pbest = (0, p.x.copy())\n",
    "        # each epoch allow gbest to dominate more\n",
    "        swarm.w *= math.pow(0.5, 1.0 / epochs)\n",
    "        swarm.c1 *= math.pow(0.1, 1.0 / epochs)\n",
    "        swarm.c2 *= math.pow(0.25, 1.0 / epochs)\n",
    "    \n",
    "    # return the solutions found\n",
    "    return all_solutions"
   ]
  },
  {
   "cell_type": "code",
   "execution_count": null,
   "metadata": {
    "colab": {
     "base_uri": "https://localhost:8080/"
    },
    "executionInfo": {
     "elapsed": 77800,
     "status": "ok",
     "timestamp": 1610828631800,
     "user": {
      "displayName": "Jon Carter",
      "photoUrl": "",
      "userId": "10994732475158030338"
     },
     "user_tz": 0
    },
    "id": "jVvTARb5Wyj4",
    "outputId": "f0de70bb-2a1f-42fa-e3fa-bb4d16723f75"
   },
   "outputs": [
    {
     "name": "stdout",
     "output_type": "stream",
     "text": [
      "epoch 0\n",
      "epoch 1\n",
      "epoch 2\n",
      "epoch 3\n",
      "epoch 4\n",
      "epoch 5\n",
      "epoch 6\n",
      "epoch 7\n",
      "epoch 8\n",
      "epoch 9\n",
      "epoch 10\n",
      "epoch 11\n",
      "epoch 12\n",
      "epoch 13\n",
      "epoch 14\n",
      "epoch 15\n",
      "epoch 16\n",
      "epoch 17\n",
      "epoch 18\n",
      "epoch 19\n",
      "epoch 20\n",
      "epoch 21\n",
      "epoch 22\n",
      "epoch 23\n",
      "epoch 24\n",
      "epoch 25\n",
      "epoch 26\n",
      "epoch 27\n",
      "epoch 28\n",
      "epoch 29\n",
      "epoch 30\n",
      "epoch 31\n",
      "epoch 32\n",
      "epoch 33\n",
      "epoch 34\n"
     ]
    }
   ],
   "source": [
    "# draw chart for this combo\n",
    "problem = problems['a280-n279.txt']\n",
    "all_solutions = run_particle_swarm(problem)\n",
    "nd_solutions = TTPNonDominatedSolutions(1000)\n",
    "nd_solutions.add_new_solutions(all_solutions)"
   ]
  },
  {
   "cell_type": "code",
   "execution_count": null,
   "metadata": {
    "colab": {
     "base_uri": "https://localhost:8080/",
     "height": 513
    },
    "executionInfo": {
     "elapsed": 600,
     "status": "ok",
     "timestamp": 1610829618500,
     "user": {
      "displayName": "Jon Carter",
      "photoUrl": "",
      "userId": "10994732475158030338"
     },
     "user_tz": 0
    },
    "id": "Tp3iO1mCvgEM",
    "outputId": "b80dac7d-952e-4c5c-ef8c-76c5812be591"
   },
   "outputs": [
    {
     "data": {
      "image/png": "[encoded data removed]",
      "text/plain": [
       "<Figure size 576x576 with 1 Axes>"
      ]
     },
     "metadata": {
      "needs_background": "light",
      "tags": []
     },
     "output_type": "display_data"
    }
   ],
   "source": [
    "plt.figure(figsize=(8,8))\n",
    "plt.scatter([s.total_time() for s in all_solutions if s.valid], \n",
    "          [s.total_profit() for s in all_solutions if s.valid],\n",
    "          #c=[matplotlib.colors.to_rgba((0.1, 0.1, 1.0), s.alpha * 0.2) for s in all_solutions if s.valid],\n",
    "          label='all solutions')\n",
    "plt.scatter([s.total_time() for s in nd_solutions.solutions], \n",
    "          [s.total_profit() for s in nd_solutions.solutions],\n",
    "          c='red', label='non-dominated solutions')\n",
    "plt.title(f\"pbest solutions epochs = {epochs} generations/epoch = {generations_per_epoch}\")\n",
    "plt.xlabel('thief time')\n",
    "plt.ylabel('thief profit')\n",
    "plt.legend()\n",
    "plt.show()"
   ]
  },
  {
   "cell_type": "markdown",
   "metadata": {
    "id": "zwOtvPnFDKfg"
   },
   "source": [
    "# Results Submission"
   ]
  },
  {
   "cell_type": "code",
   "execution_count": null,
   "metadata": {
    "id": "_xyYn1mwDuy8"
   },
   "outputs": [],
   "source": [
    "def generate_competition_output(problem, all_solutions):\n",
    "    assert problem, \"requires a problem\"\n",
    "    assert all_solutions, \"requires solutions\"\n",
    "\n",
    "    # our name!\n",
    "    team_name = 'ECMM409-Team-Zeta'\n",
    "\n",
    "    # max number of solutions allowed for each test as defined in the competition rules\n",
    "    max_solutions = {\n",
    "        \"a280-n279\": 100,\n",
    "        \"a280-n1395\": 100,\n",
    "        \"a280-n2790\": 100,\n",
    "        \"fnl4461-n4460\": 50,\n",
    "        \"fnl4461-n22300\": 50,\n",
    "        \"fnl4461-n44600\": 50,\n",
    "        \"pla33810-n33809\": 20,\n",
    "        \"pla33810-n169045\": 20,\n",
    "        \"pla33810-n338090\": 20,\n",
    "        \"test-example-n4\": 8\n",
    "    }\n",
    "\n",
    "    # generate a set of non-dominated solution up to this maximum\n",
    "    nd_solutions = TTPNonDominatedSolutions(max_solutions[problem.filename])\n",
    "    nd_solutions.add_new_solutions(all_solutions)\n",
    "\n",
    "    # generate the output the competition expects in the correct format\n",
    "    with open(team_name + \"_\" + problem.filename + \".z\", \"wt\") as fo:\n",
    "        for s in nd_solutions.solutions:\n",
    "            tour = ' '.join([str(n) for n in s.nodes])\n",
    "            fo.write(tour + '\\n')\n",
    "            packing = ' '.join([\"1\" if i in s.items else \"0\" for i in problem.items.keys()])\n",
    "            fo.write(packing + '\\n\\n')\n",
    "    with open(team_name + \"_\" + problem.filename + \".f\", \"wt\") as fo:\n",
    "        for s in nd_solutions.solutions:\n",
    "            fo.write(str(s.total_time()) + ' ' + str(s.total_profit()) + '\\n')"
   ]
  },
  {
   "cell_type": "markdown",
   "metadata": {
    "id": "ZF1Fw6J4nGnU"
   },
   "source": [
    "# Results Generation"
   ]
  },
  {
   "cell_type": "code",
   "execution_count": null,
   "metadata": {
    "id": "QyF9oEEQn3d4"
   },
   "outputs": [],
   "source": [
    "# invoke a specific algorithm for a specific problem and return a list of solutions\n",
    "def problem_runner(problem_algorithm):\n",
    "    problem_string, algorithm = problem_algorithm[0], problem_algorithm[1]\n",
    "    problem = problems[problem_string]\n",
    "    if algorithm == 'PSO':\n",
    "        solutions = run_particle_swarm(problem)\n",
    "    elif algorithm == 'ACO':\n",
    "        # TODO Wamika - call ACO\n",
    "        solutions = []\n",
    "    elif algorithm == 'MOEA':\n",
    "        # TODO Zeng - tune based on problem.dimensions? 15 minutes runtime is good\n",
    "        s = TTPSolutionEA(problem)\n",
    "        s.run(100, 100)\n",
    "    else:\n",
    "        assert False, 'unknown algorithm'\n",
    "    # stamp the solution with the algorithm that found it\n",
    "    for s in solutions:\n",
    "        s.algorithm = algorithm\n",
    "    return solutions"
   ]
  },
  {
   "cell_type": "code",
   "execution_count": null,
   "metadata": {
    "colab": {
     "base_uri": "https://localhost:8080/"
    },
    "executionInfo": {
     "elapsed": 800,
     "status": "ok",
     "timestamp": 1610829627700,
     "user": {
      "displayName": "Jon Carter",
      "photoUrl": "",
      "userId": "10994732475158030338"
     },
     "user_tz": 0
    },
    "id": "YE4l1nKorGyo",
    "outputId": "640ba1a7-a063-483a-bedf-651430e6c8d7"
   },
   "outputs": [
    {
     "name": "stdout",
     "output_type": "stream",
     "text": [
      "using 2 cpus\n"
     ]
    }
   ],
   "source": [
    "# generate a matrix of problems x algorithms and run in parallel\n",
    "cpus = multiprocessing.cpu_count()\n",
    "algorithms = ['PSO', 'ACO', 'MOEA']\n",
    "problem_algorithms = [(p,a) for p in problems for a in algorithms]\n",
    "problem_solutions = {p:[] for p in problems}\n",
    "print(f'using {cpus} cpus')\n",
    "with multiprocessing.Pool(processes=cpus) as pool:\n",
    "    all_solutions = pool.map(problem_runner, problem_algorithms)\n",
    "for s, pa in zip(all_solutions, problem_algorithms):\n",
    "    problem_solutions[pa[0]].extend(s)\n",
    "for p,s in problem_solutions.items():\n",
    "    generate_competition_output(problems[p], s)"
   ]
  },
  {
   "cell_type": "code",
   "execution_count": null,
   "metadata": {
    "colab": {
     "base_uri": "https://localhost:8080/"
    },
    "executionInfo": {
     "elapsed": 1000,
     "status": "ok",
     "timestamp": 1610829636600,
     "user": {
      "displayName": "Jon Carter",
      "photoUrl": "",
      "userId": "10994732475158030338"
     },
     "user_tz": 0
    },
    "id": "I3B7eQx25MTg",
    "outputId": "bb0e03a9-5da9-4132-86cf-9eccfae61c86"
   },
   "outputs": [
    {
     "name": "stdout",
     "output_type": "stream",
     "text": [
      "ECMM409-Team-Zeta_a280-n1395.f\t    ECMM409-Team-Zeta_fnl4461-n4460.f\n",
      "ECMM409-Team-Zeta_a280-n2790.f\t    ECMM409-Team-Zeta_pla33810-n169045.f\n",
      "ECMM409-Team-Zeta_a280-n279.f\t    ECMM409-Team-Zeta_pla33810-n338090.f\n",
      "ECMM409-Team-Zeta_fnl4461-n22300.f  ECMM409-Team-Zeta_pla33810-n33809.f\n",
      "ECMM409-Team-Zeta_fnl4461-n44600.f  ECMM409-Team-Zeta_test-example-n4.f\n"
     ]
    }
   ],
   "source": [
    "!ls *.f"
   ]
  },
  {
   "cell_type": "code",
   "execution_count": null,
   "metadata": {
    "colab": {
     "base_uri": "https://localhost:8080/"
    },
    "executionInfo": {
     "elapsed": 600,
     "status": "ok",
     "timestamp": 1610829637700,
     "user": {
      "displayName": "Jon Carter",
      "photoUrl": "",
      "userId": "10994732475158030338"
     },
     "user_tz": 0
    },
    "id": "FsMDGYV26m7g",
    "outputId": "3e82baa5-7cf9-4834-c926-d15407583f96"
   },
   "outputs": [
    {
     "name": "stdout",
     "output_type": "stream",
     "text": [
      "ECMM409-Team-Zeta_a280-n1395.z\t    ECMM409-Team-Zeta_fnl4461-n4460.z\n",
      "ECMM409-Team-Zeta_a280-n2790.z\t    ECMM409-Team-Zeta_pla33810-n169045.z\n",
      "ECMM409-Team-Zeta_a280-n279.z\t    ECMM409-Team-Zeta_pla33810-n338090.z\n",
      "ECMM409-Team-Zeta_fnl4461-n22300.z  ECMM409-Team-Zeta_pla33810-n33809.z\n",
      "ECMM409-Team-Zeta_fnl4461-n44600.z  ECMM409-Team-Zeta_test-example-n4.z\n"
     ]
    }
   ],
   "source": [
    "!ls *.z"
   ]
  }
 ],
 "metadata": {
  "colab": {
   "collapsed_sections": [],
   "name": "Copy of Thief Loader.ipynb",
   "provenance": [
    {
     "file_id": "1FsjRVA9yjrONtc4clDUjFUuwKxt6uT0z",
     "timestamp": 1610907686551
    }
   ]
  },
  "kernelspec": {
   "display_name": "Python 3",
   "language": "python",
   "name": "python3"
  },
  "language_info": {
   "codemirror_mode": {
    "name": "ipython",
    "version": 3
   },
   "file_extension": ".py",
   "mimetype": "text/x-python",
   "name": "python",
   "nbconvert_exporter": "python",
   "pygments_lexer": "ipython3",
   "version": "3.8.3"
  }
 },
 "nbformat": 4,
 "nbformat_minor": 1
}
